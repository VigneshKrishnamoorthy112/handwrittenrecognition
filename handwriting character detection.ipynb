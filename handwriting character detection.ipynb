{
 "cells": [
  {
   "cell_type": "markdown",
   "metadata": {},
   "source": [
    "# Handwritten Character Detection using CNN "
   ]
  },
  {
   "cell_type": "markdown",
   "metadata": {},
   "source": [
    "### Importing Libraries "
   ]
  },
  {
   "cell_type": "code",
   "execution_count": 1,
   "metadata": {},
   "outputs": [
    {
     "name": "stdout",
     "output_type": "stream",
     "text": [
      "WARNING:tensorflow:From C:\\Users\\djakkula\\Anaconda3\\envs\\handdete\\lib\\site-packages\\tensorflow_core\\python\\compat\\v2_compat.py:88: disable_resource_variables (from tensorflow.python.ops.variable_scope) is deprecated and will be removed in a future version.\n",
      "Instructions for updating:\n",
      "non-resource variables are not supported in the long term\n"
     ]
    }
   ],
   "source": [
    "import tensorflow.compat.v1 as tf\n",
    "tf.disable_v2_behavior()\n",
    "import numpy as np\n",
    "import os\n",
    "import cv2\n",
    "import matplotlib.pyplot as plt\n",
    "from tqdm import tqdm\n",
    "from tensorflow.keras.datasets import cifar10\n",
    "from tensorflow.keras.preprocessing.image import ImageDataGenerator\n",
    "from tensorflow.keras.models import Sequential\n",
    "from tensorflow.keras.layers import Dense, Dropout, Activation, Flatten\n",
    "from tensorflow.keras.layers import Conv2D, MaxPooling2D, AveragePooling2D\n",
    "import pickle\n",
    "import random"
   ]
  },
  {
   "cell_type": "markdown",
   "metadata": {},
   "source": [
    "### Creating Training Dataset from Directory"
   ]
  },
  {
   "cell_type": "code",
   "execution_count": 2,
   "metadata": {},
   "outputs": [
    {
     "name": "stderr",
     "output_type": "stream",
     "text": [
      "  7%|█████▍                                                                     | 1001/13770 [00:00<00:02, 4967.86it/s]\n",
      " 12%|████████▉                                                                   | 1001/8568 [00:00<00:01, 4756.83it/s]\n",
      "  4%|███▏                                                                       | 1001/23309 [00:00<00:06, 3390.81it/s]\n",
      " 10%|███████▍                                                                   | 1001/10034 [00:00<00:04, 2183.58it/s]\n",
      "  9%|██████▌                                                                    | 1001/11340 [00:00<00:03, 2960.60it/s]\n",
      " 86%|█████████████████████████████████████████████████████████████████▍          | 1001/1163 [00:00<00:00, 2230.40it/s]\n",
      " 17%|█████████████▏                                                              | 1001/5762 [00:00<00:02, 2245.39it/s]\n",
      " 14%|██████████▌                                                                 | 1001/7218 [00:00<00:02, 2843.28it/s]\n",
      " 89%|███████████████████████████████████████████████████████████████████▉        | 1001/1120 [00:00<00:00, 1551.28it/s]\n",
      " 12%|████████▉                                                                   | 1001/8493 [00:00<00:02, 3368.05it/s]\n",
      " 18%|█████████████▌                                                              | 1001/5603 [00:00<00:02, 1565.80it/s]\n",
      "  9%|██████▍                                                                    | 1001/11586 [00:00<00:03, 3126.71it/s]\n",
      "  8%|██████▏                                                                    | 1001/12236 [00:00<00:03, 2952.01it/s]\n",
      "  5%|███▉                                                                       | 1001/18910 [00:00<00:06, 2600.22it/s]\n",
      "  2%|█▎                                                                         | 1001/57725 [00:00<00:16, 3390.79it/s]\n",
      "  5%|███▉                                                                       | 1001/19241 [00:00<00:07, 2378.20it/s]\n",
      " 17%|█████████████                                                               | 1001/5812 [00:00<00:01, 2909.22it/s]\n",
      "  9%|██████▍                                                                    | 1001/11566 [00:00<00:03, 3379.40it/s]\n",
      "  2%|█▌                                                                         | 1001/48419 [00:00<00:32, 1454.61it/s]\n",
      "  4%|███▎                                                                       | 1001/22395 [00:00<00:07, 2934.71it/s]\n",
      "  3%|██▌                                                                        | 1001/28908 [00:00<00:08, 3425.16it/s]\n",
      " 25%|██████████████████▋                                                         | 1001/4082 [00:00<00:01, 2158.27it/s]\n",
      "  9%|███████                                                                    | 1001/10684 [00:00<00:03, 3176.20it/s]\n",
      " 16%|████████████▎                                                               | 1001/6172 [00:00<00:01, 3176.18it/s]\n",
      "  9%|██████▉                                                                    | 1001/10759 [00:00<00:02, 3356.91it/s]\n",
      " 17%|████████████▋                                                               | 1001/5976 [00:00<00:01, 3248.16it/s]"
     ]
    },
    {
     "name": "stdout",
     "output_type": "stream",
     "text": [
      "26026\n"
     ]
    },
    {
     "name": "stderr",
     "output_type": "stream",
     "text": [
      "\n"
     ]
    }
   ],
   "source": [
    "DATADIR = \"C:/Users/djakkula/Documents/handwrittenrecognition/handwrittenrecognition/alphabets_dataset\"\n",
    "\n",
    "CATEGORIES = [\"A\", \"B\", \"C\", \"D\", \"E\", \"F\", \"G\", \"H\", \"I\", \"J\", \"K\", \"L\", \"M\", \"N\", \"O\", \"P\", \"Q\", \"R\", \"S\", \"T\", \"U\", \"V\", \"W\", \"X\", \"Y\", \"Z\"]\n",
    "\n",
    "training_data = []\n",
    "IMG_SIZE=24\n",
    "\n",
    "def create_training_data():\n",
    "    for category in CATEGORIES:  \n",
    "        i=0\n",
    "        path = os.path.join(DATADIR,category)  \n",
    "        class_num = CATEGORIES.index(category)  \n",
    "\n",
    "        for img in tqdm(os.listdir(path)):  \n",
    "                if i<=1000:\n",
    "                    img_array = cv2.imread(os.path.join(path,img) ,cv2.IMREAD_GRAYSCALE)\n",
    "                    new_array = cv2.resize(img_array, (IMG_SIZE, IMG_SIZE))  \n",
    "                    training_data.append([new_array, class_num])\n",
    "                    i+=1\n",
    "                else:\n",
    "                    break\n",
    "\n",
    "create_training_data()\n",
    "\n",
    "print(len(training_data))\n"
   ]
  },
  {
   "cell_type": "markdown",
   "metadata": {},
   "source": [
    "### Shuffling and Reshaping Data"
   ]
  },
  {
   "cell_type": "code",
   "execution_count": 3,
   "metadata": {},
   "outputs": [],
   "source": [
    "random.shuffle(training_data)\n",
    "X = []\n",
    "y = []\n",
    "IMG_SIZE=24\n",
    "\n",
    "for features,label in training_data:\n",
    "    X.append(features)\n",
    "    y.append(label)\n",
    "X = np.array(X).reshape(-1,IMG_SIZE,IMG_SIZE,1)"
   ]
  },
  {
   "cell_type": "markdown",
   "metadata": {},
   "source": [
    "### Defining the CNN and training the CNN"
   ]
  },
  {
   "cell_type": "code",
   "execution_count": 4,
   "metadata": {},
   "outputs": [
    {
     "name": "stdout",
     "output_type": "stream",
     "text": [
      "WARNING:tensorflow:From C:\\Users\\djakkula\\Anaconda3\\envs\\handdete\\lib\\site-packages\\tensorflow_core\\python\\ops\\resource_variable_ops.py:1635: calling BaseResourceVariable.__init__ (from tensorflow.python.ops.resource_variable_ops) with constraint is deprecated and will be removed in a future version.\n",
      "Instructions for updating:\n",
      "If using Keras pass *_constraint arguments to layers.\n",
      "Train on 18218 samples, validate on 7808 samples\n",
      "Epoch 1/10\n",
      "18218/18218 [==============================] - 13s 694us/sample - loss: 0.8112 - acc: 0.8190 - val_loss: 0.2397 - val_acc: 0.9316\n",
      "Epoch 2/10\n",
      "18218/18218 [==============================] - 11s 615us/sample - loss: 0.1792 - acc: 0.9445 - val_loss: 0.1704 - val_acc: 0.9480\n",
      "Epoch 3/10\n",
      "18218/18218 [==============================] - 11s 618us/sample - loss: 0.1172 - acc: 0.9646 - val_loss: 0.1514 - val_acc: 0.9581\n",
      "Epoch 4/10\n",
      "18218/18218 [==============================] - 11s 619us/sample - loss: 0.0951 - acc: 0.9703 - val_loss: 0.1776 - val_acc: 0.9506\n",
      "Epoch 5/10\n",
      "18218/18218 [==============================] - 12s 648us/sample - loss: 0.0915 - acc: 0.9721 - val_loss: 0.1849 - val_acc: 0.9521\n",
      "Epoch 6/10\n",
      "18218/18218 [==============================] - 12s 638us/sample - loss: 0.0808 - acc: 0.9767 - val_loss: 0.1711 - val_acc: 0.9571\n",
      "Epoch 7/10\n",
      "18218/18218 [==============================] - 12s 637us/sample - loss: 0.0755 - acc: 0.9777 - val_loss: 0.2309 - val_acc: 0.9526\n",
      "Epoch 8/10\n",
      "18218/18218 [==============================] - 12s 647us/sample - loss: 0.0835 - acc: 0.9743 - val_loss: 0.2075 - val_acc: 0.9577\n",
      "Epoch 9/10\n",
      "18218/18218 [==============================] - 12s 646us/sample - loss: 0.0675 - acc: 0.9786 - val_loss: 0.2187 - val_acc: 0.9576\n",
      "Epoch 10/10\n",
      "18218/18218 [==============================] - 11s 614us/sample - loss: 0.0707 - acc: 0.9801 - val_loss: 0.2679 - val_acc: 0.9444\n"
     ]
    }
   ],
   "source": [
    "model = Sequential()\n",
    "\n",
    "model = Sequential()\n",
    "model.add(Conv2D(filters=32, kernel_size=(5,5), padding='same', activation='relu', input_shape=(24, 24, 1)))\n",
    "model.add(MaxPooling2D(strides=2))\n",
    "model.add(Conv2D(filters=48, kernel_size=(5,5), padding='valid', activation='relu'))\n",
    "model.add(MaxPooling2D(strides=2))\n",
    "model.add(Flatten())\n",
    "model.add(Dense(256, activation='relu'))\n",
    "model.add(Dense(84, activation='relu'))\n",
    "model.add(Dense(26, activation='softmax'))\n",
    "\n",
    "model.compile(loss='sparse_categorical_crossentropy',\n",
    "              optimizer='adam',\n",
    "              metrics=['accuracy'])\n",
    "\n",
    "model.fit(X, y, batch_size=32, epochs=10, validation_split=0.3)\n",
    "\n",
    "model.save(\"Model.m\")"
   ]
  },
  {
   "cell_type": "markdown",
   "metadata": {},
   "source": [
    "### Testing"
   ]
  },
  {
   "cell_type": "code",
   "execution_count": 5,
   "metadata": {},
   "outputs": [
    {
     "name": "stdout",
     "output_type": "stream",
     "text": [
      "Detected Letter is: X\n"
     ]
    },
    {
     "data": {
      "image/png": "[encoded data removed]",
      "text/plain": [
       "<Figure size 432x288 with 1 Axes>"
      ]
     },
     "metadata": {
      "needs_background": "light"
     },
     "output_type": "display_data"
    }
   ],
   "source": [
    "img = cv2.imread(\"C:/Users/djakkula/Documents/handwrittenrecognition/handwrittenrecognition/test/test1.jpg\")\n",
    "imgray = cv2.cvtColor(img,cv2.COLOR_RGB2GRAY)\n",
    "ret,thresh = cv2.threshold(imgray,150,200,0)\n",
    "thresh = cv2.bitwise_not(thresh)\n",
    "cv2.imwrite(\"C:/Users/djakkula/Documents/handwrittenrecognition/handwrittenrecognition/test/testk.jpg\",thresh)\n",
    "test_img_array = cv2.imread(\"C:/Users/djakkula/Documents/handwrittenrecognition/handwrittenrecognition/test/testk.jpg\",cv2.IMREAD_GRAYSCALE)\n",
    "test_new_array = cv2.resize(test_img_array, (IMG_SIZE, IMG_SIZE))\n",
    "test_new_array = np.array(test_new_array).reshape(-1,IMG_SIZE,IMG_SIZE,1)\n",
    "prediction = model.predict([test_new_array])\n",
    "prediction = np.argmax(prediction, axis=1)\n",
    "A=\"ABCDEFGHIJKLMNOPQRSTUVWXYZ\"\n",
    "print(\"Detected Letter is:\",A[prediction[0]])\n",
    "plt.imshow(test_img_array)\n",
    "plt.show()"
   ]
  },
  {
   "cell_type": "code",
   "execution_count": null,
   "metadata": {},
   "outputs": [],
   "source": []
  }
 ],
 "metadata": {
  "kernelspec": {
   "display_name": "handdete",
   "language": "python",
   "name": "handdete"
  },
  "language_info": {
   "codemirror_mode": {
    "name": "ipython",
    "version": 3
   },
   "file_extension": ".py",
   "mimetype": "text/x-python",
   "name": "python",
   "nbconvert_exporter": "python",
   "pygments_lexer": "ipython3",
   "version": "3.7.9"
  }
 },
 "nbformat": 4,
 "nbformat_minor": 4
}
